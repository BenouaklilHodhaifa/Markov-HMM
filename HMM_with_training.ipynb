{
  "cells": [
    {
      "cell_type": "markdown",
      "metadata": {
        "id": "xiY7PwTX8esh"
      },
      "source": [
        "# Example : Predicting teacher's mood"
      ]
    },
    {
      "cell_type": "markdown",
      "metadata": {
        "id": "5Dv2vk8e8AxT"
      },
      "source": [
        "**Problem statement :**\n",
        "\n",
        "In the context of predicting a teacher's mood, the goal is to leverage HMMs to forecast the teacher's emotional state based on the observed t-shirt colors worn on consecutive days."
      ]
    },
    {
      "cell_type": "markdown",
      "metadata": {
        "id": "-etJnnoP7YFQ"
      },
      "source": [
        "### Step 1: Import the required libraries"
      ]
    },
    {
      "cell_type": "code",
      "execution_count": 29,
      "metadata": {
        "colab": {
          "base_uri": "https://localhost:8080/"
        },
        "id": "agd8M2Ks8JOh",
        "outputId": "e02c0ea0-e9ca-43b1-d0bb-912e40680233"
      },
      "outputs": [
        {
          "name": "stdout",
          "output_type": "stream",
          "text": [
            "Requirement already satisfied: hmmlearn in d:\\anaconda\\lib\\site-packages (0.3.0)\n",
            "Requirement already satisfied: numpy>=1.10 in d:\\anaconda\\lib\\site-packages (from hmmlearn) (1.24.3)\n",
            "Requirement already satisfied: scikit-learn!=0.22.0,>=0.16 in d:\\anaconda\\lib\\site-packages (from hmmlearn) (1.3.0)\n",
            "Requirement already satisfied: scipy>=0.19 in d:\\anaconda\\lib\\site-packages (from hmmlearn) (1.11.4)\n",
            "Requirement already satisfied: joblib>=1.1.1 in d:\\anaconda\\lib\\site-packages (from scikit-learn!=0.22.0,>=0.16->hmmlearn) (1.2.0)\n",
            "Requirement already satisfied: threadpoolctl>=2.0.0 in d:\\anaconda\\lib\\site-packages (from scikit-learn!=0.22.0,>=0.16->hmmlearn) (2.2.0)\n"
          ]
        }
      ],
      "source": [
        "!pip install hmmlearn"
      ]
    },
    {
      "cell_type": "code",
      "execution_count": 41,
      "metadata": {
        "id": "jfL6yzi24U97"
      },
      "outputs": [],
      "source": [
        "# import the necessary libraries\n",
        "import numpy as np\n",
        "import matplotlib.pyplot as plt\n",
        "from hmmlearn import hmm"
      ]
    },
    {
      "cell_type": "code",
      "execution_count": 42,
      "metadata": {},
      "outputs": [],
      "source": [
        "np.set_printoptions(precision=4)"
      ]
    },
    {
      "cell_type": "markdown",
      "metadata": {
        "id": "Y7iGxD2Z7akW"
      },
      "source": [
        "### Step 2: Define the model parameters"
      ]
    },
    {
      "cell_type": "code",
      "execution_count": 43,
      "metadata": {
        "colab": {
          "base_uri": "https://localhost:8080/"
        },
        "id": "3FMZ-bmm7J47",
        "outputId": "109fe826-a839-4370-f216-17e227a7febb"
      },
      "outputs": [
        {
          "name": "stdout",
          "output_type": "stream",
          "text": [
            "Number of hidden states : 2\n",
            "Number of observations : 3\n"
          ]
        }
      ],
      "source": [
        "# Define the state space\n",
        "states = [\"Happy\", \"Sad\"]\n",
        "n_states = len(states)\n",
        "print('Number of hidden states :',n_states)\n",
        "\n",
        "# Define the observation space\n",
        "observations = [\"Red\", \"Green\", \"Blue\"]\n",
        "n_observations = len(observations)\n",
        "print('Number of observations :',n_observations)"
      ]
    },
    {
      "cell_type": "markdown",
      "metadata": {
        "id": "F-IsnP4B7dXZ"
      },
      "source": [
        "### Step 3: Create an instance of the HMM model"
      ]
    },
    {
      "cell_type": "code",
      "execution_count": 44,
      "metadata": {
        "id": "-bDhHLS-7Sh1"
      },
      "outputs": [],
      "source": [
        "model = hmm.CategoricalHMM(n_components=n_states, n_features=n_observations, algorithm='viterbi')"
      ]
    },
    {
      "cell_type": "markdown",
      "metadata": {
        "id": "yGjIlzJG7ijB"
      },
      "source": [
        "### Step 4: Train the model"
      ]
    },
    {
      "cell_type": "code",
      "execution_count": 45,
      "metadata": {
        "colab": {
          "base_uri": "https://localhost:8080/"
        },
        "id": "YJio2g3K7kM9",
        "outputId": "16752352-cea4-41c2-e6cd-a1f72bfa929d"
      },
      "outputs": [
        {
          "data": {
            "text/plain": [
              "array([[1],\n",
              "       [2],\n",
              "       [1],\n",
              "       [1],\n",
              "       [0],\n",
              "       [1],\n",
              "       [0],\n",
              "       [2],\n",
              "       [2],\n",
              "       [1],\n",
              "       [0]])"
            ]
          },
          "execution_count": 45,
          "metadata": {},
          "output_type": "execute_result"
        }
      ],
      "source": [
        "# Define the sequence of observations\n",
        "train_observations_sequence = np.array([1, 2, 1, 1, 0, 1, 0, 2, 2 , 1, 0]).reshape(-1, 1) \n",
        "train_observations_sequence"
      ]
    },
    {
      "cell_type": "code",
      "execution_count": 46,
      "metadata": {},
      "outputs": [
        {
          "name": "stderr",
          "output_type": "stream",
          "text": [
            "Even though the 'startprob_' attribute is set, it will be overwritten during initialization because 'init_params' contains 's'\n"
          ]
        },
        {
          "data": {
            "text/html": [
              "<style>#sk-container-id-5 {color: black;}#sk-container-id-5 pre{padding: 0;}#sk-container-id-5 div.sk-toggleable {background-color: white;}#sk-container-id-5 label.sk-toggleable__label {cursor: pointer;display: block;width: 100%;margin-bottom: 0;padding: 0.3em;box-sizing: border-box;text-align: center;}#sk-container-id-5 label.sk-toggleable__label-arrow:before {content: \"▸\";float: left;margin-right: 0.25em;color: #696969;}#sk-container-id-5 label.sk-toggleable__label-arrow:hover:before {color: black;}#sk-container-id-5 div.sk-estimator:hover label.sk-toggleable__label-arrow:before {color: black;}#sk-container-id-5 div.sk-toggleable__content {max-height: 0;max-width: 0;overflow: hidden;text-align: left;background-color: #f0f8ff;}#sk-container-id-5 div.sk-toggleable__content pre {margin: 0.2em;color: black;border-radius: 0.25em;background-color: #f0f8ff;}#sk-container-id-5 input.sk-toggleable__control:checked~div.sk-toggleable__content {max-height: 200px;max-width: 100%;overflow: auto;}#sk-container-id-5 input.sk-toggleable__control:checked~label.sk-toggleable__label-arrow:before {content: \"▾\";}#sk-container-id-5 div.sk-estimator input.sk-toggleable__control:checked~label.sk-toggleable__label {background-color: #d4ebff;}#sk-container-id-5 div.sk-label input.sk-toggleable__control:checked~label.sk-toggleable__label {background-color: #d4ebff;}#sk-container-id-5 input.sk-hidden--visually {border: 0;clip: rect(1px 1px 1px 1px);clip: rect(1px, 1px, 1px, 1px);height: 1px;margin: -1px;overflow: hidden;padding: 0;position: absolute;width: 1px;}#sk-container-id-5 div.sk-estimator {font-family: monospace;background-color: #f0f8ff;border: 1px dotted black;border-radius: 0.25em;box-sizing: border-box;margin-bottom: 0.5em;}#sk-container-id-5 div.sk-estimator:hover {background-color: #d4ebff;}#sk-container-id-5 div.sk-parallel-item::after {content: \"\";width: 100%;border-bottom: 1px solid gray;flex-grow: 1;}#sk-container-id-5 div.sk-label:hover label.sk-toggleable__label {background-color: #d4ebff;}#sk-container-id-5 div.sk-serial::before {content: \"\";position: absolute;border-left: 1px solid gray;box-sizing: border-box;top: 0;bottom: 0;left: 50%;z-index: 0;}#sk-container-id-5 div.sk-serial {display: flex;flex-direction: column;align-items: center;background-color: white;padding-right: 0.2em;padding-left: 0.2em;position: relative;}#sk-container-id-5 div.sk-item {position: relative;z-index: 1;}#sk-container-id-5 div.sk-parallel {display: flex;align-items: stretch;justify-content: center;background-color: white;position: relative;}#sk-container-id-5 div.sk-item::before, #sk-container-id-5 div.sk-parallel-item::before {content: \"\";position: absolute;border-left: 1px solid gray;box-sizing: border-box;top: 0;bottom: 0;left: 50%;z-index: -1;}#sk-container-id-5 div.sk-parallel-item {display: flex;flex-direction: column;z-index: 1;position: relative;background-color: white;}#sk-container-id-5 div.sk-parallel-item:first-child::after {align-self: flex-end;width: 50%;}#sk-container-id-5 div.sk-parallel-item:last-child::after {align-self: flex-start;width: 50%;}#sk-container-id-5 div.sk-parallel-item:only-child::after {width: 0;}#sk-container-id-5 div.sk-dashed-wrapped {border: 1px dashed gray;margin: 0 0.4em 0.5em 0.4em;box-sizing: border-box;padding-bottom: 0.4em;background-color: white;}#sk-container-id-5 div.sk-label label {font-family: monospace;font-weight: bold;display: inline-block;line-height: 1.2em;}#sk-container-id-5 div.sk-label-container {text-align: center;}#sk-container-id-5 div.sk-container {/* jupyter's `normalize.less` sets `[hidden] { display: none; }` but bootstrap.min.css set `[hidden] { display: none !important; }` so we also need the `!important` here to be able to override the default hidden behavior on the sphinx rendered scikit-learn.org. See: https://github.com/scikit-learn/scikit-learn/issues/21755 */display: inline-block !important;position: relative;}#sk-container-id-5 div.sk-text-repr-fallback {display: none;}</style><div id=\"sk-container-id-5\" class=\"sk-top-container\"><div class=\"sk-text-repr-fallback\"><pre>CategoricalHMM(n_components=2, n_features=3,\n",
              "               random_state=RandomState(MT19937) at 0x1CE449D7B40)</pre><b>In a Jupyter environment, please rerun this cell to show the HTML representation or trust the notebook. <br />On GitHub, the HTML representation is unable to render, please try loading this page with nbviewer.org.</b></div><div class=\"sk-container\" hidden><div class=\"sk-item\"><div class=\"sk-estimator sk-toggleable\"><input class=\"sk-toggleable__control sk-hidden--visually\" id=\"sk-estimator-id-5\" type=\"checkbox\" checked><label for=\"sk-estimator-id-5\" class=\"sk-toggleable__label sk-toggleable__label-arrow\">CategoricalHMM</label><div class=\"sk-toggleable__content\"><pre>CategoricalHMM(n_components=2, n_features=3,\n",
              "               random_state=RandomState(MT19937) at 0x1CE449D7B40)</pre></div></div></div></div></div>"
            ],
            "text/plain": [
              "CategoricalHMM(n_components=2, n_features=3,\n",
              "               random_state=RandomState(MT19937) at 0x1CE449D7B40)"
            ]
          },
          "execution_count": 46,
          "metadata": {},
          "output_type": "execute_result"
        }
      ],
      "source": [
        "model.fit(train_observations_sequence)"
      ]
    },
    {
      "cell_type": "code",
      "execution_count": 47,
      "metadata": {},
      "outputs": [
        {
          "data": {
            "text/plain": [
              "(array([9.9986e-01, 1.4360e-04]),\n",
              " array([[0.1919, 0.8081],\n",
              "        [0.7087, 0.2913]]),\n",
              " array([[0.0064, 0.8151, 0.1785],\n",
              "        [0.5237, 0.1149, 0.3615]]))"
            ]
          },
          "execution_count": 47,
          "metadata": {},
          "output_type": "execute_result"
        }
      ],
      "source": [
        "model.startprob_,model.transmat_, model.emissionprob_ #the result of fitting the model, PS: if you already know these values you can skip the fitting and pass directly to prediction"
      ]
    },
    {
      "cell_type": "markdown",
      "metadata": {
        "id": "m-7rouYN7nOS"
      },
      "source": [
        "### Step 5: Predict the most likely sequence of hidden states"
      ]
    },
    {
      "cell_type": "code",
      "execution_count": 48,
      "metadata": {},
      "outputs": [],
      "source": [
        "test_observations_sequence = np.array([1, 0, 2, 1, 1, 1]).reshape(-1, 1)  # [\"Green\", \"Red\", \"Blue\", \"Green\", \"Green\", \"Green\", \"Green\"]"
      ]
    },
    {
      "cell_type": "code",
      "execution_count": 49,
      "metadata": {
        "colab": {
          "base_uri": "https://localhost:8080/"
        },
        "id": "aVIhMP6R7qnV",
        "outputId": "a000fd05-9739-49dc-931f-7f6911a0b962"
      },
      "outputs": [
        {
          "name": "stdout",
          "output_type": "stream",
          "text": [
            "Most likely hidden states: ['Happy', 'Sad', 'Sad', 'Happy', 'Sad', 'Happy']\n"
          ]
        }
      ],
      "source": [
        "# Predict the most likely sequence of hidden states\n",
        "hidden_states = model.predict(test_observations_sequence)\n",
        "print(\"Most likely hidden states:\", [states[i] for i in hidden_states])"
      ]
    },
    {
      "cell_type": "code",
      "execution_count": 50,
      "metadata": {
        "colab": {
          "base_uri": "https://localhost:8080/"
        },
        "id": "jEBkfUjQ7ubh",
        "outputId": "11973857-aff0-4bdc-b6b6-112f656c45ef"
      },
      "outputs": [
        {
          "name": "stdout",
          "output_type": "stream",
          "text": [
            "Log Probability : -6.790268700883583\n",
            "Most likely hidden states: ['Happy', 'Sad', 'Sad', 'Happy', 'Sad', 'Happy']\n"
          ]
        }
      ],
      "source": [
        "#the same result as predict but with the Log probability also\n",
        "log_probability, hidden_states = model.decode(test_observations_sequence,\n",
        "\t\t\t\t\t\t\t\t\t\t\t                        lengths = len(test_observations_sequence),\n",
        "\t\t\t\t\t\t\t\t\t\t\t                        algorithm ='viterbi' ) # Decoding using the Viterbi algorithme\n",
        "\n",
        "print('Log Probability :', log_probability)\n",
        "print(\"Most likely hidden states:\", [states[i] for i in hidden_states])"
      ]
    },
    {
      "cell_type": "markdown",
      "metadata": {
        "id": "Ukfy4Hpa7yZv"
      },
      "source": [
        "### Step 6: Plot the results"
      ]
    },
    {
      "cell_type": "code",
      "execution_count": 51,
      "metadata": {
        "colab": {
          "base_uri": "https://localhost:8080/",
          "height": 513
        },
        "id": "W4uclN8BE2Kr",
        "outputId": "9fbb70e8-32b7-4925-b66b-e1c928b1c53b"
      },
      "outputs": [
        {
          "data": {
            "image/png": "[encoded data removed]",
            "text/plain": [
              "<Figure size 640x480 with 1 Axes>"
            ]
          },
          "metadata": {},
          "output_type": "display_data"
        }
      ],
      "source": [
        "# Define a mapping between numeric observations and emotions / colors\n",
        "emotion_mapping = {0: 'Happy', 1: 'Sad'}\n",
        "color_mapping = {0: 'Red', 1: 'Green', 2: 'Blue'}\n",
        "\n",
        "# Map numeric observations to corresponding emotions / colors\n",
        "emotions = [emotion_mapping[state] for state in hidden_states]\n",
        "colors = [color_mapping[obs] for obs in test_observations_sequence.flatten()]\n",
        "\n",
        "# Plot the results\n",
        "plt.scatter(range(len(hidden_states)), emotions, c=colors, marker='o')\n",
        "plt.xticks(range(len(hidden_states)), colors)\n",
        "plt.xlabel('Observations = Colors', labelpad=20, weight='bold')\n",
        "plt.ylabel('States = Emotions', labelpad=20, weight='bold')\n",
        "plt.title(\"Hidden States Sequence\", pad=20, weight='bold')\n",
        "plt.show()"
      ]
    }
  ],
  "metadata": {
    "colab": {
      "include_colab_link": true,
      "provenance": []
    },
    "kernelspec": {
      "display_name": "Python 3",
      "name": "python3"
    },
    "language_info": {
      "codemirror_mode": {
        "name": "ipython",
        "version": 3
      },
      "file_extension": ".py",
      "mimetype": "text/x-python",
      "name": "python",
      "nbconvert_exporter": "python",
      "pygments_lexer": "ipython3",
      "version": "3.11.5"
    }
  },
  "nbformat": 4,
  "nbformat_minor": 0
}
