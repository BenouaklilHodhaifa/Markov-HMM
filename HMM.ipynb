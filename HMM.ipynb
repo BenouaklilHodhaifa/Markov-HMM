{
  "cells": [
    {
      "cell_type": "markdown",
      "metadata": {
        "id": "xiY7PwTX8esh"
      },
      "source": [
        "# Example : Predicting teacher's mood"
      ]
    },
    {
      "cell_type": "markdown",
      "metadata": {
        "id": "5Dv2vk8e8AxT"
      },
      "source": [
        "**Problem statement :**\n",
        "\n",
        "In the context of predicting a teacher's mood, the goal is to leverage HMMs to forecast the teacher's emotional state based on the observed t-shirt colors worn on consecutive days."
      ]
    },
    {
      "cell_type": "markdown",
      "metadata": {
        "id": "-etJnnoP7YFQ"
      },
      "source": [
        "### Step 1: Import the required libraries"
      ]
    },
    {
      "cell_type": "code",
      "execution_count": null,
      "metadata": {
        "colab": {
          "base_uri": "https://localhost:8080/"
        },
        "id": "agd8M2Ks8JOh",
        "outputId": "e02c0ea0-e9ca-43b1-d0bb-912e40680233"
      },
      "outputs": [
        {
          "name": "stdout",
          "output_type": "stream",
          "text": [
            "Collecting hmmlearn\n",
            "  Downloading hmmlearn-0.3.0-cp310-cp310-manylinux_2_17_x86_64.manylinux2014_x86_64.whl (160 kB)\n",
            "\u001b[?25l     \u001b[90m━━━━━━━━━━━━━━━━━━━━━━━━━━━━━━━━━━━━━━━━\u001b[0m \u001b[32m0.0/160.4 kB\u001b[0m \u001b[31m?\u001b[0m eta \u001b[36m-:--:--\u001b[0m\r\u001b[2K     \u001b[91m━━━━━━━━━━━━━━━━━━━━━━━━━━━━━━━━━━━━━━\u001b[0m\u001b[90m╺\u001b[0m\u001b[90m━\u001b[0m \u001b[32m153.6/160.4 kB\u001b[0m \u001b[31m4.8 MB/s\u001b[0m eta \u001b[36m0:00:01\u001b[0m\r\u001b[2K     \u001b[90m━━━━━━━━━━━━━━━━━━━━━━━━━━━━━━━━━━━━━━━━\u001b[0m \u001b[32m160.4/160.4 kB\u001b[0m \u001b[31m3.4 MB/s\u001b[0m eta \u001b[36m0:00:00\u001b[0m\n",
            "\u001b[?25hRequirement already satisfied: numpy>=1.10 in /usr/local/lib/python3.10/dist-packages (from hmmlearn) (1.23.5)\n",
            "Requirement already satisfied: scikit-learn!=0.22.0,>=0.16 in /usr/local/lib/python3.10/dist-packages (from hmmlearn) (1.2.2)\n",
            "Requirement already satisfied: scipy>=0.19 in /usr/local/lib/python3.10/dist-packages (from hmmlearn) (1.11.4)\n",
            "Requirement already satisfied: joblib>=1.1.1 in /usr/local/lib/python3.10/dist-packages (from scikit-learn!=0.22.0,>=0.16->hmmlearn) (1.3.2)\n",
            "Requirement already satisfied: threadpoolctl>=2.0.0 in /usr/local/lib/python3.10/dist-packages (from scikit-learn!=0.22.0,>=0.16->hmmlearn) (3.2.0)\n",
            "Installing collected packages: hmmlearn\n",
            "Successfully installed hmmlearn-0.3.0\n"
          ]
        }
      ],
      "source": [
        "!pip install hmmlearn"
      ]
    },
    {
      "cell_type": "code",
      "execution_count": null,
      "metadata": {
        "id": "jfL6yzi24U97"
      },
      "outputs": [],
      "source": [
        "# import the necessary libraries\n",
        "import numpy as np\n",
        "import matplotlib.pyplot as plt\n",
        "from hmmlearn import hmm\n",
        "from scipy.linalg import eig"
      ]
    },
    {
      "cell_type": "markdown",
      "metadata": {
        "id": "Y7iGxD2Z7akW"
      },
      "source": [
        "### Step 2: Define the model parameters"
      ]
    },
    {
      "cell_type": "code",
      "execution_count": null,
      "metadata": {
        "colab": {
          "base_uri": "https://localhost:8080/"
        },
        "id": "3FMZ-bmm7J47",
        "outputId": "109fe826-a839-4370-f216-17e227a7febb"
      },
      "outputs": [
        {
          "name": "stdout",
          "output_type": "stream",
          "text": [
            "Number of hidden states : 2\n",
            "Number of observations : 3\n"
          ]
        }
      ],
      "source": [
        "# Define the state space\n",
        "states = [\"Happy\", \"Sad\"]\n",
        "n_states = len(states)\n",
        "print('Number of hidden states :',n_states)\n",
        "\n",
        "# Define the observation space\n",
        "observations = [\"Red\", \"Green\", \"Blue\"]\n",
        "n_observations = len(observations)\n",
        "print('Number of observations :',n_observations)"
      ]
    },
    {
      "cell_type": "code",
      "execution_count": null,
      "metadata": {
        "colab": {
          "base_uri": "https://localhost:8080/"
        },
        "id": "7XYd3SRd7OMT",
        "outputId": "852a4135-6870-4590-d3a6-65a5cd0a6039"
      },
      "outputs": [
        {
          "name": "stdout",
          "output_type": "stream",
          "text": [
            "State probability:  [0.4 0.6]\n",
            "\n",
            "Transition probability:\n",
            " [[0.7 0.3]\n",
            " [0.5 0.5]]\n",
            "\n",
            "Emission probability:\n",
            " [[0.8 0.1 0.1]\n",
            " [0.2 0.3 0.5]]\n"
          ]
        }
      ],
      "source": [
        "# Define the initial state distribution\n",
        "state_probability = np.array([0.4, 0.6])\n",
        "print(\"State probability: \", state_probability)\n",
        "\n",
        "# Define the state transition probabilities\n",
        "transition_probability = np.array([[0.7, 0.3],\n",
        "\t\t\t\t\t\t\t\t                   [0.5, 0.5]])\n",
        "print(\"\\nTransition probability:\\n\", transition_probability)\n",
        "\n",
        "# Define the observation likelihoods\n",
        "emission_probability= np.array([[0.8, 0.1, 0.1],\n",
        "\t\t\t\t\t\t\t\t                [0.2, 0.3, 0.5]])\n",
        "print(\"\\nEmission probability:\\n\", emission_probability)"
      ]
    },
    {
      "cell_type": "markdown",
      "metadata": {
        "id": "F-IsnP4B7dXZ"
      },
      "source": [
        "### Step 3: Create an instance of the HMM model and Set the model parameters"
      ]
    },
    {
      "cell_type": "code",
      "execution_count": null,
      "metadata": {
        "id": "-bDhHLS-7Sh1"
      },
      "outputs": [],
      "source": [
        "model = hmm.CategoricalHMM(n_components=n_states)\n",
        "model.startprob_ = state_probability\n",
        "model.transmat_ = transition_probability\n",
        "model.emissionprob_ = emission_probability"
      ]
    },
    {
      "cell_type": "markdown",
      "metadata": {
        "id": "yGjIlzJG7ijB"
      },
      "source": [
        "### Step 4: Define an observation sequence"
      ]
    },
    {
      "cell_type": "code",
      "execution_count": 45,
      "metadata": {
        "colab": {
          "base_uri": "https://localhost:8080/"
        },
        "id": "YJio2g3K7kM9",
        "outputId": "16752352-cea4-41c2-e6cd-a1f72bfa929d"
      },
      "outputs": [
        {
          "data": {
            "text/plain": [
              "array([[1],\n",
              "       [2],\n",
              "       [0],\n",
              "       [1]])"
            ]
          },
          "execution_count": 45,
          "metadata": {},
          "output_type": "execute_result"
        }
      ],
      "source": [
        "# Define the sequence of observations\n",
        "observations_sequence = np.array([1, 2, 0, 1]).reshape(-1, 1) # [\"Green\", \"Blue\", \"Red\", \"Green\"]\n",
        "observations_sequence"
      ]
    },
    {
      "cell_type": "markdown",
      "metadata": {
        "id": "m-7rouYN7nOS"
      },
      "source": [
        "### Step 5: Predict the most likely sequence of hidden states"
      ]
    },
    {
      "cell_type": "code",
      "execution_count": 46,
      "metadata": {
        "colab": {
          "base_uri": "https://localhost:8080/"
        },
        "id": "aVIhMP6R7qnV",
        "outputId": "a000fd05-9739-49dc-931f-7f6911a0b962"
      },
      "outputs": [
        {
          "name": "stdout",
          "output_type": "stream",
          "text": [
            "Most likely hidden states: ['Sad', 'Sad', 'Happy', 'Sad']\n"
          ]
        }
      ],
      "source": [
        "# Predict the most likely sequence of hidden states\n",
        "hidden_states = model.predict(observations_sequence)\n",
        "print(\"Most likely hidden states:\", [states[i] for i in hidden_states])"
      ]
    },
    {
      "cell_type": "markdown",
      "metadata": {
        "id": "1EzNE4Se7seP"
      },
      "source": [
        "### Step 6: Decode the observation sequence"
      ]
    },
    {
      "cell_type": "code",
      "execution_count": 47,
      "metadata": {
        "colab": {
          "base_uri": "https://localhost:8080/"
        },
        "id": "jEBkfUjQ7ubh",
        "outputId": "11973857-aff0-4bdc-b6b6-112f656c45ef"
      },
      "outputs": [
        {
          "name": "stdout",
          "output_type": "stream",
          "text": [
            "Log Probability : -6.425329129737845\n",
            "Most likely hidden states: ['Sad', 'Sad', 'Happy', 'Sad']\n"
          ]
        }
      ],
      "source": [
        "log_probability, hidden_states = model.decode(observations_sequence,\n",
        "\t\t\t\t\t\t\t\t\t\t\t                        lengths = len(observations_sequence),\n",
        "\t\t\t\t\t\t\t\t\t\t\t                        algorithm ='viterbi' ) # Decoding using the Viterbi algorithme\n",
        "\n",
        "print('Log Probability :', log_probability)\n",
        "print(\"Most likely hidden states:\", [states[i] for i in hidden_states])"
      ]
    },
    {
      "cell_type": "markdown",
      "metadata": {
        "id": "Ukfy4Hpa7yZv"
      },
      "source": [
        "### Step 7: Plot the results"
      ]
    },
    {
      "cell_type": "code",
      "execution_count": 50,
      "metadata": {
        "colab": {
          "base_uri": "https://localhost:8080/",
          "height": 513
        },
        "id": "W4uclN8BE2Kr",
        "outputId": "9fbb70e8-32b7-4925-b66b-e1c928b1c53b"
      },
      "outputs": [
        {
          "data": {
            "image/png": "[encoded data removed]",
            "text/plain": [
              "<Figure size 640x480 with 1 Axes>"
            ]
          },
          "metadata": {},
          "output_type": "display_data"
        }
      ],
      "source": [
        "# Define a mapping between numeric observations and emotions / colors\n",
        "emotion_mapping = {0: 'Happy', 1: 'Sad'}\n",
        "color_mapping = {0: 'Red', 1: 'Green', 2: 'Blue'}\n",
        "\n",
        "# Map numeric observations to corresponding emotions / colors\n",
        "emotions = [emotion_mapping[state] for state in hidden_states]\n",
        "colors = [color_mapping[obs] for obs in observations_sequence.flatten()]\n",
        "\n",
        "# Plot the results\n",
        "plt.scatter(range(len(hidden_states)), emotions, c=colors, marker='o')\n",
        "plt.xticks(range(len(hidden_states)), colors)\n",
        "plt.xlabel('Observations = Colors', labelpad=20, weight='bold')\n",
        "plt.ylabel('States = Emotions', labelpad=20, weight='bold')\n",
        "plt.title(\"Hidden States Sequence\", pad=20, weight='bold')\n",
        "plt.show()"
      ]
    }
  ],
  "metadata": {
    "colab": {
      "include_colab_link": true,
      "provenance": []
    },
    "kernelspec": {
      "display_name": "Python 3",
      "name": "python3"
    },
    "language_info": {
      "name": "python",
      "version": "3.11.5"
    }
  },
  "nbformat": 4,
  "nbformat_minor": 0
}
